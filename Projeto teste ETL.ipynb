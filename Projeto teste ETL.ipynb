{
  "nbformat": 4,
  "nbformat_minor": 0,
  "metadata": {
    "colab": {
      "provenance": []
    },
    "kernelspec": {
      "name": "python3",
      "display_name": "Python 3"
    },
    "language_info": {
      "name": "python"
    }
  },
  "cells": [
    {
      "cell_type": "code",
      "execution_count": 4,
      "metadata": {
        "colab": {
          "base_uri": "https://localhost:8080/"
        },
        "id": "LuPXqtxetY0t",
        "outputId": "484bae72-2035-402c-9207-b1f67d5b41a4"
      },
      "outputs": [
        {
          "output_type": "stream",
          "name": "stdout",
          "text": [
            "Os títulos das notícias foram gravados em \"noticias.csv\"\n"
          ]
        }
      ],
      "source": [
        "import requests\n",
        "from bs4 import BeautifulSoup\n",
        "import csv\n",
        "\n",
        "# URL do site de notícias\n",
        "url = 'https://edition.cnn.com/'\n",
        "\n",
        "# Realiza a requisição HTTP\n",
        "response = requests.get(url)\n",
        "\n",
        "# Analisa o conteúdo da página com BeautifulSoup\n",
        "soup = BeautifulSoup(response.text, 'html.parser')\n",
        "\n",
        "# Encontra os títulos das notícias\n",
        "titles = soup.find_all('h3', class_='card__headline')\n",
        "\n",
        "# Cria um arquivo CSV e escreve os títulos nele\n",
        "with open('noticias.csv', 'w', newline='') as csv_file:\n",
        "    writer = csv.writer(csv_file)\n",
        "    writer.writerow(['Título'])\n",
        "    for title in titles:\n",
        "        writer.writerow([title.text.strip()])\n",
        "\n",
        "print('Os títulos das notícias foram gravados em \"noticias.csv\"')\n"
      ]
    }
  ]
}